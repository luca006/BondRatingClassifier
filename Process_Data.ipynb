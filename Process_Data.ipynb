{
 "cells": [
  {
   "cell_type": "code",
   "execution_count": 13,
   "id": "a5c7a2d8-e831-4de2-b2c1-3601642c46b2",
   "metadata": {},
   "outputs": [],
   "source": [
    "import pandas as pd\n",
    "import numpy as np\n",
    "import matplotlib.pyplot as plt"
   ]
  },
  {
   "cell_type": "markdown",
   "id": "8de1402a-cd80-41be-bf06-fe755b348749",
   "metadata": {},
   "source": [
    "Load the data from the excel file.\n",
    "Keep only relevant columns for the purpose of the analysis. "
   ]
  },
  {
   "cell_type": "code",
   "execution_count": 16,
   "id": "6334bbb2-edce-493b-a887-658a47467be9",
   "metadata": {},
   "outputs": [],
   "source": [
    "raw_data=pd.read_excel('ice index.xlsx')"
   ]
  },
  {
   "cell_type": "code",
   "execution_count": 17,
   "id": "9875892d-5a7d-42eb-be11-3d50055243d4",
   "metadata": {},
   "outputs": [],
   "source": [
    "keep_cols=[\n",
    "'Ticker',\n",
    "'Current Coupon',\n",
    "'ISO Currency',\n",
    "'Issue Year',\n",
    "'Issue Month',\n",
    "'Issuer Ultimate Parent Name',\n",
    "'Type',\n",
    "'Excess Rtn % 1-day',\n",
    "'Excess Rtn % 1-week',\n",
    "'Excess Rtn % 1-month',\n",
    "'Excess Rtn % 6-month',\n",
    "'Excess Rtn % 12-month',\n",
    "'Excess Rtn % 3-month',\n",
    "'Excess Rtn % MTD',\n",
    "'Excess Rtn % QTD',\n",
    "'Excess Rtn % YTD',\n",
    "'OAS',\n",
    "'OAS 1-Day Change',\n",
    "'OAS 1-Week Change',\n",
    "'OAS 1-Mo Change',\n",
    "'OAS 3-Mo Change',\n",
    "'OAS 12-Mo Change',\n",
    "'OAS 6-Mo Change',\n",
    "'OAS MTD Change',\n",
    "'OAS QTD Change',\n",
    "'OAS YTD Change',\n",
    "'Yld to Maturity',\n",
    "'Yld to Worst',\n",
    "'Current Yield',\n",
    "'Yield to Next Call',\n",
    "'Face Value LOC',\n",
    "'Bid-Offer Spread',\n",
    "'Price',\n",
    "'Rating - Middle of Three',\n",
    "'ISO Country',\n",
    "'MLIndLvl2 code',\n",
    "'MLIndLvl3 code',\n",
    "'MLIndLvl4 code',\n",
    "'Maturity / WAL',\n",
    "'Mod Dur To Worst',\n",
    "'Modified Dur',\n",
    "'Spread Duration',\n",
    "'Years since Issue',\n",
    "'Years to Final Maturity',\n",
    "'Yrs To Worst',\n",
    "'Liquidity_Rank',\n",
    "'Rating_Class_Rating - Middle of Three',\n",
    "'Rating_Score_Rating - Middle of Three',\n",
    "'YTW_BE',\n",
    "'OAS_BE',\n",
    "'DTS']"
   ]
  },
  {
   "cell_type": "markdown",
   "id": "63ab4b17-9361-477e-8156-782d4d6bdc52",
   "metadata": {},
   "source": [
    "Process the data:\n",
    "1) Fix the name of Rating Columns\n",
    "2) Select only \"SENR\" (Senior Unsecured) bonds which is the scope of the analysis"
   ]
  },
  {
   "cell_type": "code",
   "execution_count": 19,
   "id": "45937f8f-3838-4d97-acc9-b32faab7e0cf",
   "metadata": {},
   "outputs": [],
   "source": [
    "data=raw_data.loc[:,keep_cols]\n",
    "data=data.rename(columns={'Rating - Middle of Three':'Rating','Rating_Class_Rating - Middle of Three':'Rating_Class_Rating',\n",
    "'Rating_Score_Rating - Middle of Three':'Rating_Score_Rating'})\n",
    "data=data[data['Type']=='SENR']"
   ]
  },
  {
   "cell_type": "markdown",
   "id": "6e1312b6-ea6c-48da-af74-330bdbd73987",
   "metadata": {},
   "source": [
    "Check the quality of the data.\n",
    "1) NaNs\n",
    "2) Data type structure\n",
    "This allows to process more efficiently the data and understand the quality of the data set."
   ]
  },
  {
   "cell_type": "code",
   "execution_count": 21,
   "id": "c7a01c63-259e-43ed-aba8-f746267f8c90",
   "metadata": {},
   "outputs": [
    {
     "name": "stdout",
     "output_type": "stream",
     "text": [
      "                              count   NaN DataType\n",
      "Yield to Next Call           7105.0  1933  float64\n",
      "Excess Rtn % 12-month        7625.0  1413  float64\n",
      "OAS 12-Mo Change             7722.0  1316  float64\n",
      "OAS YTD Change               8117.0   921  float64\n",
      "Excess Rtn % YTD             8117.0   921  float64\n",
      "Excess Rtn % 6-month         8213.0   825  float64\n",
      "OAS 6-Mo Change              8280.0   758  float64\n",
      "Excess Rtn % 3-month         8634.0   404  float64\n",
      "OAS 3-Mo Change              8749.0   289  float64\n",
      "Excess Rtn % 1-month         8946.0    92  float64\n",
      "Excess Rtn % QTD             8946.0    92  float64\n",
      "OAS QTD Change               8972.0    66  float64\n",
      "OAS 1-Mo Change              9009.0    29  float64\n",
      "Issuer Ultimate Parent Name     NaN     1   object\n",
      "Type                            NaN     0   object\n",
      "Years to Final Maturity      9038.0     0  float64\n",
      "Yrs To Worst                 9038.0     0  float64\n",
      "Liquidity_Rank               9038.0     0  float64\n",
      "Rating_Score_Rating          9038.0     0    int64\n",
      "YTW_BE                       9038.0     0  float64\n",
      "OAS_BE                       9038.0     0  float64\n",
      "DTS                          9038.0     0  float64\n",
      "Ticker                          NaN     0   object\n",
      "MLIndLvl4 code                  NaN     0   object\n",
      "MLIndLvl3 code                  NaN     0   object\n",
      "ISO Currency                    NaN     0   object\n",
      "MLIndLvl2 code                  NaN     0   object\n",
      "ISO Country                     NaN     0   object\n",
      "Rating                          NaN     0   object\n",
      "Spread Duration              9038.0     0  float64\n",
      "Years since Issue            9038.0     0  float64\n",
      "Current Coupon               9038.0     0  float64\n",
      "Modified Dur                 9038.0     0  float64\n",
      "OAS MTD Change               9038.0     0    int64\n",
      "Issue Month                  9038.0     0    int64\n",
      "Excess Rtn % 1-day           9038.0     0  float64\n",
      "Excess Rtn % 1-week          9038.0     0  float64\n",
      "Excess Rtn % MTD             9038.0     0  float64\n",
      "OAS                          9038.0     0    int64\n",
      "OAS 1-Day Change             9038.0     0    int64\n",
      "OAS 1-Week Change            9038.0     0    int64\n",
      "Yld to Maturity              9038.0     0  float64\n",
      "Mod Dur To Worst             9038.0     0  float64\n",
      "Yld to Worst                 9038.0     0  float64\n",
      "Current Yield                9038.0     0  float64\n",
      "Issue Year                   9038.0     0    int64\n",
      "Face Value LOC               9038.0     0  float64\n",
      "Bid-Offer Spread             9038.0     0  float64\n",
      "Price                        9038.0     0  float64\n",
      "Maturity / WAL               9038.0     0  float64\n",
      "Rating_Class_Rating             NaN     0   object\n",
      "Number of columns per data type DataType\n",
      "int64       7.0\n",
      "float64    34.0\n",
      "object      0.0\n",
      "Name: (count, count), dtype: float64\n"
     ]
    }
   ],
   "source": [
    "check_na=data.isna().sum()\n",
    "check_na.name='NaN'\n",
    "type_columns=data.dtypes.rename('DataType')\n",
    "des_columns=type_columns[type_columns=='object']\n",
    "data_check=pd.concat([data.describe().loc['count',:],check_na,type_columns],axis=1)\n",
    "print(data_check.sort_values(by=['NaN'],ascending=False))\n",
    "print(f\"Number of columns per data type {data_check.groupby(by=['DataType']).describe().iloc[:,0]}\")"
   ]
  },
  {
   "cell_type": "markdown",
   "id": "ecedc651-8554-4ff7-837f-b4f03594cacf",
   "metadata": {},
   "source": [
    "Drop NaNs"
   ]
  },
  {
   "cell_type": "code",
   "execution_count": 36,
   "id": "75120d22-2697-4e63-a36f-06a2ffb5190d",
   "metadata": {},
   "outputs": [
    {
     "name": "stdout",
     "output_type": "stream",
     "text": [
      "The raw data had 9038, after dropping 7624 NaNs\n"
     ]
    }
   ],
   "source": [
    "clean_data=data.drop(columns=['Yield to Next Call']) #remove Yield to Next Call \n",
    "clean_data=clean_data.dropna(axis=0) #drop all instances where there are NaNs\n",
    "print(f'The raw data had {len(data)}, after dropping {len(clean_data)} NaNs')"
   ]
  },
  {
   "cell_type": "markdown",
   "id": "31ac3f1d-2048-437c-8d7c-9596ef2c1883",
   "metadata": {},
   "source": [
    "Analyse the distribution of Ratings"
   ]
  },
  {
   "cell_type": "code",
   "execution_count": 25,
   "id": "eff68c5b-3508-4ebe-af7c-5e3d08a0a66d",
   "metadata": {},
   "outputs": [
    {
     "data": {
      "text/plain": [
       "Text(0.5, 1.0, 'Distribution of Ratings')"
      ]
     },
     "execution_count": 25,
     "metadata": {},
     "output_type": "execute_result"
    },
    {
     "data": {
      "image/png": "[encoded data removed]",
      "text/plain": [
       "<Figure size 640x480 with 1 Axes>"
      ]
     },
     "metadata": {},
     "output_type": "display_data"
    }
   ],
   "source": [
    "rating_data=clean_data.iloc[:,clean_data.columns.str.contains('Rating')]\n",
    "dist_rating=rating_data.groupby(by=['Rating'])['Rating_Score_Rating'].describe().sort_values(by=['mean'])\n",
    "dist_rating['count'].plot.bar()\n",
    "plt.title('Distribution of Ratings')"
   ]
  },
  {
   "cell_type": "code",
   "execution_count": null,
   "id": "eaf1b9aa-230c-47aa-9d49-b7eff7fb7e70",
   "metadata": {},
   "outputs": [],
   "source": []
  }
 ],
 "metadata": {
  "kernelspec": {
   "display_name": "Python 3 (ipykernel)",
   "language": "python",
   "name": "python3"
  },
  "language_info": {
   "codemirror_mode": {
    "name": "ipython",
    "version": 3
   },
   "file_extension": ".py",
   "mimetype": "text/x-python",
   "name": "python",
   "nbconvert_exporter": "python",
   "pygments_lexer": "ipython3",
   "version": "3.11.7"
  }
 },
 "nbformat": 4,
 "nbformat_minor": 5
}
